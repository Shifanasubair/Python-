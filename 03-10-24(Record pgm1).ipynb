{
 "cells": [
  {
   "cell_type": "code",
   "execution_count": 5,
   "id": "1bffff95",
   "metadata": {},
   "outputs": [
    {
     "name": "stdout",
     "output_type": "stream",
     "text": [
      "Enter the radius of the circle:5\n",
      "The area of a circle is: 78.5\n"
     ]
    }
   ],
   "source": [
    "#Area of a circle\n",
    "r=int(input(\"Enter the radius of the circle:\"))\n",
    "area=3.14*r**2\n",
    "print(\"The area of a circle is:\",area)"
   ]
  },
  {
   "cell_type": "code",
   "execution_count": 8,
   "id": "daa7d64d",
   "metadata": {},
   "outputs": [
    {
     "name": "stdout",
     "output_type": "stream",
     "text": [
      "Enter a number:10\n",
      "10 + 110 + 1110 = 1230\n"
     ]
    }
   ],
   "source": [
    "#Compute n+nn+nnn=\n",
    "num=int(input(\"Enter a number:\"))\n",
    "num1=num\n",
    "num2=num*10+num1\n",
    "num3=num*100+num2\n",
    "print(num1,\"+\",num2,\"+\",num3,\"=\",num1+num2+num3)"
   ]
  },
  {
   "cell_type": "code",
   "execution_count": 9,
   "id": "a3620cd9",
   "metadata": {},
   "outputs": [
    {
     "name": "stdout",
     "output_type": "stream",
     "text": [
      "Enter the first number:15\n",
      "Enter the second number:16\n",
      "Enter the third number:19\n",
      "The biggest number from the given numbers is 19\n"
     ]
    }
   ],
   "source": [
    "#Biggest of the number\n",
    "a=int(input(\"Enter the first number:\"))\n",
    "b=int(input(\"Enter the second number:\"))\n",
    "c=int(input(\"Enter the third number:\"))\n",
    "d=max(a,b,c)\n",
    "print(\"The biggest number from the given numbers is\",d)"
   ]
  },
  {
   "cell_type": "code",
   "execution_count": null,
   "id": "90cd0575",
   "metadata": {},
   "outputs": [],
   "source": []
  }
 ],
 "metadata": {
  "kernelspec": {
   "display_name": "Python 3 (ipykernel)",
   "language": "python",
   "name": "python3"
  },
  "language_info": {
   "codemirror_mode": {
    "name": "ipython",
    "version": 3
   },
   "file_extension": ".py",
   "mimetype": "text/x-python",
   "name": "python",
   "nbconvert_exporter": "python",
   "pygments_lexer": "ipython3",
   "version": "3.12.3"
  }
 },
 "nbformat": 4,
 "nbformat_minor": 5
}
