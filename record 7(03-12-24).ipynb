{
 "cells": [
  {
   "cell_type": "code",
   "execution_count": null,
   "id": "e0ab2d18",
   "metadata": {},
   "outputs": [],
   "source": [
    "#to find area and perimeter of a rectangle and a circle by creating modules and importing them\n",
    "from package import rectangle,circle\n",
    "\n",
    "while(1):\n",
    "    print(\"1.RECTANGLE\\n2.CIRCLE\\n3.EXIT\")\n",
    "    ch=int(input(\"Enter your choice:\"))\n",
    "    if ch==1:\n",
    "        l=int(input(\"Enter the length:\"))\n",
    "        b=int(input(\"Enter the breadth:\"))\n",
    "        rectangle.rectarea(l,b)\n",
    "        rectangle.rectperi(l,b)\n",
    "    elif ch==2:\n",
    "        r=int(input(\"Enter the radius:\"))\n",
    "        circle.circlearea(r)\n",
    "        circle.circleperi(r)\n",
    "    else:\n",
    "        print(\"Exiting\")\n",
    "        break"
   ]
  },
  {
   "cell_type": "code",
   "execution_count": null,
   "id": "167d68a0",
   "metadata": {},
   "outputs": [
    {
     "name": "stdout",
     "output_type": "stream",
     "text": [
      "1.RECTANGLE\n",
      "2.CIRCLE\n",
      "3CUBOID\n",
      "4.SPHERE\n",
      "5.EXIT\n",
      "Enter your choice:1\n",
      "Enter the length:10\n",
      "Enter the breadth:5\n",
      "Area of the rectangle is: 50\n",
      "Perimeter of the retangle is: 30\n",
      "1.RECTANGLE\n",
      "2.CIRCLE\n",
      "3CUBOID\n",
      "4.SPHERE\n",
      "5.EXIT\n",
      "Enter your choice:2\n",
      "Enter the radius:13\n",
      "Area of circle is: 530.66\n",
      "Perimeter of the circle is: 81.64\n",
      "1.RECTANGLE\n",
      "2.CIRCLE\n",
      "3CUBOID\n",
      "4.SPHERE\n",
      "5.EXIT\n",
      "Enter your choice:3\n",
      "Enter the length:5\n",
      "Enter the breadth:3\n",
      "Enter the height:10\n",
      "Area of the cuboid is: 110\n",
      "Perimeter of the cuboid is: 72\n",
      "1.RECTANGLE\n",
      "2.CIRCLE\n",
      "3CUBOID\n",
      "4.SPHERE\n",
      "5.EXIT\n"
     ]
    }
   ],
   "source": [
    "#find area and perimeter of rectangle,circle,cuboid,sphere \n",
    "from package import rectangle\n",
    "from package import circle\n",
    "from package.graphics3D import cuboid\n",
    "from package.graphics3D import sphere\n",
    "\n",
    "while(1):\n",
    "    print(\"1.RECTANGLE\\n2.CIRCLE\\n3CUBOID\\n4.SPHERE\\n5.EXIT\")\n",
    "    \n",
    "    ch=int(input(\"Enter your choice:\"))\n",
    "    if ch==1:\n",
    "        l=int(input(\"Enter the length:\"))\n",
    "        b=int(input(\"Enter the breadth:\"))\n",
    "        rectangle.rectarea(l,b)\n",
    "        rectangle.rectperi(l,b)\n",
    "    elif ch==2:\n",
    "        r=int(input(\"Enter the radius:\"))\n",
    "        circle.circlearea(r)\n",
    "        circle.circleperi(r)\n",
    "    elif ch==3:\n",
    "        l=int(input(\"Enter the length:\"))\n",
    "        b=int(input(\"Enter the breadth:\"))\n",
    "        h=int(input(\"Enter the height:\"))\n",
    "        cuboid.cuboidarea(l,b,h)\n",
    "        cuboid.cuboidperi(l,b,h)\n",
    "    elif ch==4:\n",
    "        r=int(input(\"Enter the radius:\"))\n",
    "        sphere.spherearea(r)\n",
    "        sphere.sphereperi(r)\n",
    "    else:\n",
    "        print(\"Exiting\")\n",
    "        break"
   ]
  },
  {
   "cell_type": "code",
   "execution_count": null,
   "id": "5147d15f",
   "metadata": {},
   "outputs": [],
   "source": []
  }
 ],
 "metadata": {
  "kernelspec": {
   "display_name": "Python 3 (ipykernel)",
   "language": "python",
   "name": "python3"
  },
  "language_info": {
   "codemirror_mode": {
    "name": "ipython",
    "version": 3
   },
   "file_extension": ".py",
   "mimetype": "text/x-python",
   "name": "python",
   "nbconvert_exporter": "python",
   "pygments_lexer": "ipython3",
   "version": "3.12.3"
  }
 },
 "nbformat": 4,
 "nbformat_minor": 5
}
