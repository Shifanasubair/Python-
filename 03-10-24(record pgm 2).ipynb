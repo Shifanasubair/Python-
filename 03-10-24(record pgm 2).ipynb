{
 "cells": [
  {
   "cell_type": "code",
   "execution_count": 2,
   "id": "8dfa6c6c",
   "metadata": {},
   "outputs": [
    {
     "name": "stdout",
     "output_type": "stream",
     "text": [
      "Enter the degree celcius:31.7\n",
      "The farenheit of a 31.7 C is 89.06 F\n"
     ]
    }
   ],
   "source": [
    "#Program to convert Celsius to Farenheit\n",
    "celsius=float(input(\"Enter the degree celcius:\"))\n",
    "farenheit=celsius*9/5+32\n",
    "print(\"The farenheit of a\",celsius,\"C is\",farenheit,\"F\")"
   ]
  },
  {
   "cell_type": "code",
   "execution_count": 4,
   "id": "5b8eee55",
   "metadata": {},
   "outputs": [
    {
     "name": "stdout",
     "output_type": "stream",
     "text": [
      "Enter the distance in kilometer:20\n",
      "The distance in miles: 12.427399999999999\n"
     ]
    }
   ],
   "source": [
    "#Convert kilometers to miles\n",
    "km=float(input(\"Enter the distance in kilometer:\"))\n",
    "miles=km*0.62137\n",
    "print(\"The distance in miles:\",miles)"
   ]
  },
  {
   "cell_type": "code",
   "execution_count": 7,
   "id": "3b4d2863",
   "metadata": {},
   "outputs": [
    {
     "name": "stdout",
     "output_type": "stream",
     "text": [
      "Enter the price of product A:70\n",
      "Enter the price of product B:30\n",
      "Enter the price of product C:120\n",
      "Tota price: $220.00\n",
      "Final price after 15% discount: $187.00\n",
      "Average price of the products: $73.33\n",
      "Is product 1 more expensive than the final price?False\n",
      "Is product 2 more expensive than the final price?False\n",
      "Is product 3 more expensive than the final price?False\n",
      "Is the final price within the range of $50 to $200?True\n"
     ]
    }
   ],
   "source": [
    "p1=float(input(\"Enter the price of product A:\"))\n",
    "p2=float(input(\"Enter the price of product B:\"))\n",
    "p3=float(input(\"Enter the price of product C:\"))\n",
    "total_price=p1+p2+p3\n",
    "d=0.15\n",
    "final_price=total_price*(1-d)\n",
    "avg_price=total_price/3\n",
    "p1_exp=p1>final_price\n",
    "p2_exp=p2>final_price\n",
    "p3_exp=p3>final_price\n",
    "price_in_range=50<=final_price<=200\n",
    "print(f\"Tota price: ${total_price:.2f}\")\n",
    "print(f\"Final price after 15% discount: ${final_price:.2f}\")\n",
    "print(f\"Average price of the products: ${avg_price:.2f}\")\n",
    "print(f\"Is product 1 more expensive than the final price?:{p1_exp}\")\n",
    "print(f\"Is product 2 more expensive than the final price?:{p2_exp}\")\n",
    "print(f\"Is product 3 more expensive than the final price?:{p3_exp}\")  \n",
    "print(f\"Is the final price within the range of $50 to $200?:{price_in_range}\")           "
   ]
  },
  {
   "cell_type": "code",
   "execution_count": null,
   "id": "1d300d3a",
   "metadata": {},
   "outputs": [],
   "source": []
  }
 ],
 "metadata": {
  "kernelspec": {
   "display_name": "Python 3 (ipykernel)",
   "language": "python",
   "name": "python3"
  },
  "language_info": {
   "codemirror_mode": {
    "name": "ipython",
    "version": 3
   },
   "file_extension": ".py",
   "mimetype": "text/x-python",
   "name": "python",
   "nbconvert_exporter": "python",
   "pygments_lexer": "ipython3",
   "version": "3.12.3"
  }
 },
 "nbformat": 4,
 "nbformat_minor": 5
}
