{
 "cells": [
  {
   "cell_type": "code",
   "execution_count": 2,
   "id": "0d27ef2a",
   "metadata": {},
   "outputs": [
    {
     "name": "stdout",
     "output_type": "stream",
     "text": [
      "Enter 1st number:45\n",
      "Enter 2nd number:78\n",
      "GCD is: 3\n"
     ]
    }
   ],
   "source": [
    "#GCD of two numbers\n",
    "a=int(input(\"Enter 1st number:\"))\n",
    "b=int(input(\"Enter 2nd number:\"))\n",
    "while b!=0:\n",
    "    a,b=b,a%b\n",
    "print(\"GCD is:\",a)"
   ]
  },
  {
   "cell_type": "code",
   "execution_count": 11,
   "id": "e6735681",
   "metadata": {},
   "outputs": [
    {
     "name": "stdout",
     "output_type": "stream",
     "text": [
      "List without even numbers is: [1, 3, 5, 7, 9]\n"
     ]
    }
   ],
   "source": [
    "#Create a list of integers,create a list removing even numbers\n",
    "num=[1,2,3,4,5,6,7,8,9,10]\n",
    "odd=[n for n in num if n % 2!= 0]\n",
    "print(\"List without even numbers is:\",odd)"
   ]
  },
  {
   "cell_type": "code",
   "execution_count": 17,
   "id": "8f8c9dab",
   "metadata": {},
   "outputs": [
    {
     "name": "stdout",
     "output_type": "stream",
     "text": [
      "Enter numbers seperated by space:1 3 5 7 2 9\n",
      "The sum of all inputs is: 27\n"
     ]
    }
   ],
   "source": [
    "#To find the sum of all items in a list\n",
    "n=input(\"Enter numbers seperated by space:\")\n",
    "numbers=list(map(int,n.split()))\n",
    "total_sum=sum(numbers)\n",
    "print(\"The sum of all inputs is:\",total_sum)"
   ]
  },
  {
   "cell_type": "code",
   "execution_count": 6,
   "id": "9c147281",
   "metadata": {},
   "outputs": [
    {
     "name": "stdout",
     "output_type": "stream",
     "text": [
      "Enter the lower limit: 1003\n",
      "Enter the upper limit: 7777\n",
      "Valid four-digit perfect squares with all even digits: [4624, 6084, 6400]\n"
     ]
    }
   ],
   "source": [
    "#to generate a list of four digit numbers in a given range with all their digits even and the number is a perfect square\n",
    "import math\n",
    "lower = int(input(\"Enter the lower limit: \"))\n",
    "upper = int(input(\"Enter the upper limit: \"))\n",
    "valid_nos = []\n",
    "for num in range(lower, upper + 1):\n",
    "    if int(math.sqrt(num)) ** 2 == num:\n",
    "        if all(int(digit) % 2 == 0 for digit in str(num)):\n",
    "            valid_nos.append(num)\n",
    "print(\"Valid four-digit perfect squares with all even digits:\", valid_nos)            "
   ]
  },
  {
   "cell_type": "code",
   "execution_count": 11,
   "id": "1f75ca5c",
   "metadata": {},
   "outputs": [
    {
     "name": "stdout",
     "output_type": "stream",
     "text": [
      "Enter a string:shifana\n",
      "Character frequency: Counter({'a': 2, 's': 1, 'h': 1, 'i': 1, 'f': 1, 'n': 1})\n"
     ]
    }
   ],
   "source": [
    "from collections import Counter\n",
    "string=input(\"Enter a string:\")\n",
    "freq=Counter(string)\n",
    "print(\"Character frequency:\",freq)"
   ]
  },
  {
   "cell_type": "code",
   "execution_count": 19,
   "id": "3e56def5",
   "metadata": {},
   "outputs": [
    {
     "name": "stdout",
     "output_type": "stream",
     "text": [
      "Enter a word:python\n",
      "The output is: pythoning\n"
     ]
    }
   ],
   "source": [
    "word=input(\"Enter a word:\")\n",
    "if word.endswith(\"ing\"):\n",
    "    word += \"ly\"\n",
    "else:\n",
    "    word+= \"ing\"\n",
    "print (\"The output is:\",word)"
   ]
  },
  {
   "cell_type": "code",
   "execution_count": null,
   "id": "901c208e",
   "metadata": {},
   "outputs": [],
   "source": [
    "  "
   ]
  }
 ],
 "metadata": {
  "kernelspec": {
   "display_name": "Python 3 (ipykernel)",
   "language": "python",
   "name": "python3"
  },
  "language_info": {
   "codemirror_mode": {
    "name": "ipython",
    "version": 3
   },
   "file_extension": ".py",
   "mimetype": "text/x-python",
   "name": "python",
   "nbconvert_exporter": "python",
   "pygments_lexer": "ipython3",
   "version": "3.12.3"
  }
 },
 "nbformat": 4,
 "nbformat_minor": 5
}
