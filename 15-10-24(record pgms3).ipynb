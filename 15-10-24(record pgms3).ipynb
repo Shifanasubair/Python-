{
 "cells": [
  {
   "cell_type": "code",
   "execution_count": 10,
   "id": "0b85cb97",
   "metadata": {},
   "outputs": [
    {
     "name": "stdout",
     "output_type": "stream",
     "text": [
      "Enter a string:python\n",
      "The string after exchange is: nythop\n"
     ]
    }
   ],
   "source": [
    "#to exchange the first and last character of a string\n",
    "a=input(\"Enter a string:\")\n",
    "b=a[0]\n",
    "c=a[-1]\n",
    "exc=c+a[1:-1]+b\n",
    "print(\"The string after exchange is:\",exc)"
   ]
  },
  {
   "cell_type": "code",
   "execution_count": 29,
   "id": "6a150987",
   "metadata": {},
   "outputs": [
    {
     "name": "stdout",
     "output_type": "stream",
     "text": [
      "Enter 1st string:hey\n",
      "Enter 2nd string:shifana\n",
      "The concatenated string with space is hey shifana\n",
      "After swapping,the string is shy heifana\n"
     ]
    }
   ],
   "source": [
    "#to get a single string from two strings seperated by a space and swap first two characters of each string\n",
    "s=input(\"Enter 1st string:\")\n",
    "n=input(\"Enter 2nd string:\")\n",
    "c=s+\" \"+n\n",
    "print(\"The concatenated string with space is\",c)\n",
    "s1=n[:2]+s[2:]\n",
    "n1=s[:2]+n[2:]\n",
    "print(\"After swapping,the string is\",s1,n1)"
   ]
  },
  {
   "cell_type": "code",
   "execution_count": 7,
   "id": "c8770941",
   "metadata": {},
   "outputs": [
    {
     "name": "stdout",
     "output_type": "stream",
     "text": [
      "Enter a string:are you sure that you are okay?\n",
      "The string after change is: are you sure th$t you $re ok$y?\n"
     ]
    }
   ],
   "source": [
    "#to get a string where all the occurences of a character is changed to $ expect for its first time\n",
    "a=input(\"Enter a string:\")\n",
    "char=a[0]\n",
    "str=a.replace(char,'$')\n",
    "str=char+str[1:]\n",
    "print(\"The string after change is:\",str) \n"
   ]
  },
  {
   "cell_type": "code",
   "execution_count": 14,
   "id": "a1308395",
   "metadata": {},
   "outputs": [
    {
     "name": "stdout",
     "output_type": "stream",
     "text": [
      "Enter colors:red,green,blue\n",
      "['red', 'green', 'blue']\n",
      "red\n",
      "blue\n"
     ]
    }
   ],
   "source": [
    "#to create a list of colors, and display the first and last color\n",
    "colors=input(\"Enter colors:\").split(\",\")\n",
    "print(colors)\n",
    "print (colors[0])\n",
    "print (colors[-1])                                  "
   ]
  },
  {
   "cell_type": "code",
   "execution_count": 27,
   "id": "09a74992",
   "metadata": {},
   "outputs": [
    {
     "name": "stdout",
     "output_type": "stream",
     "text": [
      "Enter the filename:python.py\n",
      "The extension of this file is: py\n"
     ]
    }
   ],
   "source": [
    "#to accept a filename from the user and print its extension(using list)\n",
    "fn=input(\"Enter the filename:\")\n",
    "fname=fn.split(\".\")[-1]\n",
    "print(\"The extension of this file is:\",fname)"
   ]
  },
  {
   "cell_type": "code",
   "execution_count": 55,
   "id": "c4d905f1",
   "metadata": {},
   "outputs": [
    {
     "name": "stdout",
     "output_type": "stream",
     "text": [
      "Enter elements:1,3,5,7,9,4,6,2,3\n",
      "The tuple is: ('1', '3', '5', '7', '9', '4', '6', '2', '3')\n",
      "The third element from first is: 5\n",
      "The third element from last is: 6\n"
     ]
    }
   ],
   "source": [
    "#to get the 3rd element, and third from last of a tuple\n",
    "t1=input(\"Enter elements:\")\n",
    "t2=tuple(t1.split(\",\"))\n",
    "print(\"The tuple is:\",t2)\n",
    "print(\"The third element from first is:\",t2[2])\n",
    "print(\"The third element from last is:\",t2[-3])\n"
   ]
  },
  {
   "cell_type": "code",
   "execution_count": 4,
   "id": "d6b65c25",
   "metadata": {},
   "outputs": [
    {
     "name": "stdout",
     "output_type": "stream",
     "text": [
      "Enter the elements in set1:red,blue,green\n",
      "Enter the elements in set2:yellow,black,red\n",
      "The first set is: {'blue', 'red', 'green'}\n",
      "The second set is: {'yellow', 'black', 'red'}\n",
      "The difference of two sets are: {'blue', 'green'}\n"
     ]
    }
   ],
   "source": [
    "#to print colors from color-set1,not contained in color-set2\n",
    "set1=set(input(\"Enter the elements in set1:\").split(\",\"))\n",
    "set2=set(input(\"Enter the elements in set2:\").split(\",\"))\n",
    "print(\"The first set is:\",set1)\n",
    "print(\"The second set is:\",set2)\n",
    "difference=set1-set2\n",
    "print(\"The difference of two sets are:\",difference)"
   ]
  },
  {
   "cell_type": "code",
   "execution_count": 9,
   "id": "be9ac213",
   "metadata": {},
   "outputs": [
    {
     "name": "stdout",
     "output_type": "stream",
     "text": [
      "Enter the names of 5 students:shifana,soja,shreya,nihala,rashika\n",
      "The sorted pairs in ascending order is: {'nihala': 3, 'rashika': 4, 'shifana': 0, 'shreya': 2, 'soja': 1}\n",
      "The sorted pairs in descending order is: {'soja': 1, 'shreya': 2, 'shifana': 0, 'rashika': 4, 'nihala': 3}\n"
     ]
    }
   ],
   "source": [
    "#program to sort dictionary in ascending and decending order(accept 5 students)\n",
    "d1=input(\"Enter the names of 5 students:\").split(',')\n",
    "d1={name.strip():i for i,name in enumerate(d1)}\n",
    "asc=dict(sorted(d1.items()))\n",
    "print(\"The sorted pairs in ascending order is:\",asc)\n",
    "desc=dict(sorted(d1.items(),reverse=True))\n",
    "print(\"The sorted pairs in descending order is:\",desc)"
   ]
  },
  {
   "cell_type": "code",
   "execution_count": 11,
   "id": "80db1c2c",
   "metadata": {},
   "outputs": [
    {
     "name": "stdout",
     "output_type": "stream",
     "text": [
      "Enter 3 names seperated by comma:shifana,shahma,soja\n",
      "Enter 2 names seperated by comma:nihala,rashika\n",
      "The merged dictionary is: {10: 'shifana', 11: 'shahma', 12: 'soja', 13: 'nihala', 14: 'rashika'}\n"
     ]
    }
   ],
   "source": [
    "#to merge two dictionaries\n",
    "d1=input(\"Enter 3 names seperated by comma:\").split(\",\")\n",
    "d11={10:d1[0],11:d1[1],12:d1[2]}\n",
    "d2=input(\"Enter 2 names seperated by comma:\").split(\",\")\n",
    "d21={13:d2[0],14:d2[1]}\n",
    "d11.update(d21)\n",
    "print(\"The merged dictionary is:\",d11)"
   ]
  },
  {
   "cell_type": "code",
   "execution_count": 24,
   "id": "d650ae95",
   "metadata": {},
   "outputs": [
    {
     "name": "stdout",
     "output_type": "stream",
     "text": [
      "Even numbers from 1 to 25 are: [2, 4, 6, 8, 10, 12, 14, 16, 18, 20, 22, 24]\n",
      "The sum is: 156\n"
     ]
    }
   ],
   "source": [
    "#to print even numbers from 1 to 25(Without using loops)and calculate the sum\n",
    "a=list(range(2,26,2))\n",
    "print(\"Even numbers from 1 to 25 are:\",a)\n",
    "s=sum(a)\n",
    "print(\"The sum is:\",s)"
   ]
  },
  {
   "cell_type": "code",
   "execution_count": null,
   "id": "06b831fd",
   "metadata": {},
   "outputs": [],
   "source": []
  }
 ],
 "metadata": {
  "kernelspec": {
   "display_name": "Python 3 (ipykernel)",
   "language": "python",
   "name": "python3"
  },
  "language_info": {
   "codemirror_mode": {
    "name": "ipython",
    "version": 3
   },
   "file_extension": ".py",
   "mimetype": "text/x-python",
   "name": "python",
   "nbconvert_exporter": "python",
   "pygments_lexer": "ipython3",
   "version": "3.12.3"
  }
 },
 "nbformat": 4,
 "nbformat_minor": 5
}
