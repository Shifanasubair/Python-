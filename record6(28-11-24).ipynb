{
 "cells": [
  {
   "cell_type": "code",
   "execution_count": 5,
   "id": "f89c2d29",
   "metadata": {},
   "outputs": [
    {
     "name": "stdout",
     "output_type": "stream",
     "text": [
      "Enter the final year:2077\n",
      "Leap years from 2024 to 2077 are: [2024, 2028, 2032, 2036, 2040, 2044, 2048, 2052, 2056, 2060, 2064, 2068, 2072, 2076]\n"
     ]
    }
   ],
   "source": [
    "#display future leap yars from current year to a final year entered by the user\n",
    "fyear=int(input(\"Enter the final year:\"))\n",
    "from datetime import datetime\n",
    "cyear=datetime.now().year\n",
    "def leapyear(year):\n",
    "    return year%4==0 and (year%100!=0 or year%400==0)\n",
    "leap=[year for year in range(cyear,fyear+1)\n",
    "      if leapyear(year)]\n",
    "print(\"Leap years from\",cyear,\"to\",fyear,\"are:\",leap)\n"
   ]
  },
  {
   "cell_type": "code",
   "execution_count": 7,
   "id": "4508dc71",
   "metadata": {},
   "outputs": [
    {
     "name": "stdout",
     "output_type": "stream",
     "text": [
      "Enter a number:7\n",
      "The factorial of 7 is 5040\n"
     ]
    }
   ],
   "source": [
    "#factorial of a number\n",
    "def factorial(n):\n",
    "    result=1\n",
    "    for i in range(1,n+1):\n",
    "        result*=i\n",
    "    return result\n",
    "num=int(input(\"Enter a number:\"))\n",
    "if num<0:\n",
    "    print(\"Factorial is not defined for negative numbers.\")\n",
    "else:\n",
    "    print(f\"The factorial of {num} is {factorial(num)}\")"
   ]
  },
  {
   "cell_type": "code",
   "execution_count": 18,
   "id": "1958d10d",
   "metadata": {},
   "outputs": [
    {
     "name": "stdout",
     "output_type": "stream",
     "text": [
      "Enter the number of terms:19\n",
      "The fibonacci series is: [0, 1, 1, 2, 3, 5, 8, 13, 21, 34, 55, 89, 144, 233, 377, 610, 987, 1597, 2584]\n"
     ]
    }
   ],
   "source": [
    "#fibonacci series\n",
    "def fibonacci(n):\n",
    "    fibo=[]\n",
    "    a,b=0,1\n",
    "    for i in range(n):\n",
    "        fibo.append(a)\n",
    "        a,b=b,a+b\n",
    "    return fibo\n",
    "num=int(input(\"Enter the number of terms:\"))\n",
    "if num<=0:\n",
    "    print(\"Enter a positive number\")\n",
    "else:\n",
    "    print(\"The fibonacci series is:\",fibonacci(num))"
   ]
  },
  {
   "cell_type": "code",
   "execution_count": 29,
   "id": "f10e40bb",
   "metadata": {},
   "outputs": [
    {
     "name": "stdout",
     "output_type": "stream",
     "text": [
      "Enter a list of words:dodo tulips cheesecake babies lilies flutes\n",
      "The longest word is 'cheesecake' and its length is:('cheesecake', 10)\n"
     ]
    }
   ],
   "source": [
    "#accept alist of words and return the longest word\n",
    "def wordlength(words):\n",
    "    longest=max(words,key=len)\n",
    "    return longest,len(longest)\n",
    "words=input(\"Enter a list of words:\").split()\n",
    "word,length=wordlength(words)\n",
    "length=wordlength(words)\n",
    "print(f\"The longest word is '{word}' and its length is:{length}\")"
   ]
  },
  {
   "cell_type": "code",
   "execution_count": 32,
   "id": "cc05f98e",
   "metadata": {},
   "outputs": [
    {
     "name": "stdout",
     "output_type": "stream",
     "text": [
      "*\n",
      "*  *\n",
      "*  *  *\n",
      "*  *  *  *\n",
      "*  *  *  *  *\n",
      "*  *  *  *\n",
      "*  *  *\n",
      "*  *\n",
      "*\n"
     ]
    }
   ],
   "source": [
    "#to print a given pattern\n",
    "def pattern(n):\n",
    "    for i in range(1, n + 1):\n",
    "        print(\"  \".join([\"*\"]*i))\n",
    "    for i in range(n-1,0,-1):\n",
    "        print(\"  \".join([\"*\"] * i))\n",
    "n=5\n",
    "pattern(n)"
   ]
  },
  {
   "cell_type": "code",
   "execution_count": 40,
   "id": "bc25850c",
   "metadata": {},
   "outputs": [
    {
     "name": "stdout",
     "output_type": "stream",
     "text": [
      "Enter a number:15\n",
      "It factors are: [1, 3, 5, 15]\n"
     ]
    }
   ],
   "source": [
    "#factors of a number\n",
    "def factors(n):\n",
    "    factor=[]\n",
    "    for i in range(1,n+1):\n",
    "        if n %i==0:\n",
    "            factor.append(i)\n",
    "    return factor\n",
    "num=int(input(\"Enter a number:\"))\n",
    "print(\"It factors are:\",factors(num))"
   ]
  },
  {
   "cell_type": "code",
   "execution_count": 55,
   "id": "901b08f8",
   "metadata": {},
   "outputs": [
    {
     "name": "stdout",
     "output_type": "stream",
     "text": [
      "Enter the number of steps:4\n",
      "1\n",
      "2  4\n",
      "3  6  9\n",
      "4  8  12  16\n"
     ]
    }
   ],
   "source": [
    "#to display the given pyramid\n",
    "def pyramid(n):\n",
    "    for i in range(1, n + 1):\n",
    "        row=[]\n",
    "        for j in range(1, i + 1):\n",
    "            row.append(i*j)\n",
    "        print(\"   \".join(map(str,row)))\n",
    "a=int(input(\"Enter the number of steps:\"))\n",
    "pyramid(a)"
   ]
  },
  {
   "cell_type": "code",
   "execution_count": 57,
   "id": "3ec4abab",
   "metadata": {},
   "outputs": [
    {
     "name": "stdout",
     "output_type": "stream",
     "text": [
      "Enter the side length of the square: 4\n",
      "Enter the length of the rectangle: 5\n",
      "Enter the width of the rectangle: 6\n",
      "Enter the base of the triangle: 3\n",
      "Enter the height of the triangle: 2\n",
      "Area of square: 16.0\n",
      "Area of rectangle: 30.0\n",
      "Area of triangle: 3.0\n"
     ]
    }
   ],
   "source": [
    "#write lambda functions to find area of square rectangle and triangle\n",
    "area_square = lambda side: side ** 2\n",
    "area_rectangle = lambda length, width: length * width\n",
    "area_triangle = lambda base, height: 0.5 * base * height\n",
    "\n",
    "side = float(input(\"Enter the side length of the square: \"))\n",
    "length = float(input(\"Enter the length of the rectangle: \"))\n",
    "width = float(input(\"Enter the width of the rectangle: \"))\n",
    "base = float(input(\"Enter the base of the triangle: \"))\n",
    "height = float(input(\"Enter the height of the triangle: \"))\n",
    "\n",
    "print(\"Area of square:\", area_square(side))\n",
    "print(\"Area of rectangle:\", area_rectangle(length, width))\n",
    "print(\"Area of triangle:\", area_triangle(base, height))"
   ]
  },
  {
   "cell_type": "code",
   "execution_count": null,
   "id": "7bc374c7",
   "metadata": {},
   "outputs": [],
   "source": []
  }
 ],
 "metadata": {
  "kernelspec": {
   "display_name": "Python 3 (ipykernel)",
   "language": "python",
   "name": "python3"
  },
  "language_info": {
   "codemirror_mode": {
    "name": "ipython",
    "version": 3
   },
   "file_extension": ".py",
   "mimetype": "text/x-python",
   "name": "python",
   "nbconvert_exporter": "python",
   "pygments_lexer": "ipython3",
   "version": "3.12.3"
  }
 },
 "nbformat": 4,
 "nbformat_minor": 5
}
