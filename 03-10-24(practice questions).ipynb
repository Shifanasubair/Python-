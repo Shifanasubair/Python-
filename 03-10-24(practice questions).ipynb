{
 "cells": [
  {
   "cell_type": "code",
   "execution_count": 6,
   "id": "a505d273",
   "metadata": {},
   "outputs": [
    {
     "name": "stdout",
     "output_type": "stream",
     "text": [
      "Enter a number:-3\n",
      "The number is negative!\n"
     ]
    }
   ],
   "source": [
    "#check whether a number is negative,positive or zero\n",
    "a=int(input(\"Enter a number:\"))\n",
    "if a>0:\n",
    "    print(\"The number is positive!\")\n",
    "elif a<0:\n",
    "    print(\"The number is negative!\")\n",
    "else:\n",
    "    print(\"The number is zero!\")"
   ]
  },
  {
   "cell_type": "code",
   "execution_count": 7,
   "id": "df02721c",
   "metadata": {},
   "outputs": [
    {
     "name": "stdout",
     "output_type": "stream",
     "text": [
      "Enter a number:7\n",
      "It is an odd number.\n"
     ]
    }
   ],
   "source": [
    "#check whether a number is odd or even\n",
    "n=int(input(\"Enter a number:\"))\n",
    "if n%2==0:\n",
    "    print(\"It is an even number.\")\n",
    "else:\n",
    "    print(\"It is an odd number.\")"
   ]
  },
  {
   "cell_type": "code",
   "execution_count": 11,
   "id": "b9917806",
   "metadata": {},
   "outputs": [
    {
     "name": "stdout",
     "output_type": "stream",
     "text": [
      "Enter value of A:2\n",
      "Enter value of B:6\n",
      "The value in A after swapping is: 6\n",
      "The value in B after swapping is: 2\n"
     ]
    }
   ],
   "source": [
    "#Swap two numbers,without a third variable\n",
    "s=int(input(\"Enter value of A:\"))\n",
    "n=int(input(\"Enter value of B:\"))\n",
    "s,n=n,s\n",
    "print(\"The value in A after swapping is:\",s)\n",
    "print(\"The value in B after swapping is:\",n)\n"
   ]
  },
  {
   "cell_type": "code",
   "execution_count": 29,
   "id": "5763870f",
   "metadata": {},
   "outputs": [
    {
     "name": "stdout",
     "output_type": "stream",
     "text": [
      "Enter a character:r\n",
      "r IS NOT A VOWEL\n"
     ]
    }
   ],
   "source": [
    "#check whether given character is a vowel\n",
    "vowels=('a','e','i','o','u','A','E','I','O','U')\n",
    "a=input(\"Enter a character:\")\n",
    "if a in vowels:\n",
    "    print(a,\"IS A VOWEL\")\n",
    "else:\n",
    "    print(a,\"IS NOT A VOWEL\")"
   ]
  },
  {
   "cell_type": "code",
   "execution_count": 28,
   "id": "066ea581",
   "metadata": {},
   "outputs": [
    {
     "name": "stdout",
     "output_type": "stream",
     "text": [
      "Enter a number:9\n",
      "The square of 9 is 81\n"
     ]
    }
   ],
   "source": [
    "#square of a number\n",
    "a=int(input(\"Enter a number:\"))\n",
    "b=a**2\n",
    "print(\"The square of\",a,\"is\",b)"
   ]
  },
  {
   "cell_type": "code",
   "execution_count": 21,
   "id": "f4eab275",
   "metadata": {},
   "outputs": [
    {
     "name": "stdout",
     "output_type": "stream",
     "text": [
      "Enter a number:30\n",
      "THE GIVEN NUMBER 30 IS DIVISIBLE BY 5!\n"
     ]
    }
   ],
   "source": [
    "s=int(input(\"Enter a number:\"))\n",
    "if s%5==0:\n",
    "    print(\"THE GIVEN NUMBER\",s,\"IS DIVISIBLE BY 5!\")\n",
    "else:\n",
    "    print(\"THE GIVEN NUMBER\",s,\"NOT DIVISIBLE BY 5!\")"
   ]
  },
  {
   "cell_type": "code",
   "execution_count": 25,
   "id": "802b03f0",
   "metadata": {},
   "outputs": [
    {
     "name": "stdout",
     "output_type": "stream",
     "text": [
      "Enter a string:python\n",
      "The length of the given string is: 6\n",
      "The string is python in lower case.\n"
     ]
    }
   ],
   "source": [
    "n=input(\"Enter a string:\")\n",
    "str_len=len(n)\n",
    "print(\"The length of the given string is:\",str_len)\n",
    "if n.isupper():\n",
    "    print(\"The string\",n,\"is in upper case.\")\n",
    "else:\n",
    "    print(\"The string is\",n,\"in lower case.\")\n"
   ]
  },
  {
   "cell_type": "code",
   "execution_count": 30,
   "id": "ca80b738",
   "metadata": {},
   "outputs": [
    {
     "name": "stdout",
     "output_type": "stream",
     "text": [
      "Enter a year:2032\n",
      "The given year 2032 is a leap year\n"
     ]
    }
   ],
   "source": [
    "y=int(input(\"Enter a year:\"))\n",
    "if (y%4==0 and y%100!=0 or y%400==0):\n",
    "    print(\"The given year\",y,\"is a leap year\")\n",
    "else:\n",
    "    print(\"The given year\",y,\"is not a leap year\")"
   ]
  },
  {
   "cell_type": "code",
   "execution_count": null,
   "id": "41f0f514",
   "metadata": {},
   "outputs": [],
   "source": []
  }
 ],
 "metadata": {
  "kernelspec": {
   "display_name": "Python 3 (ipykernel)",
   "language": "python",
   "name": "python3"
  },
  "language_info": {
   "codemirror_mode": {
    "name": "ipython",
    "version": 3
   },
   "file_extension": ".py",
   "mimetype": "text/x-python",
   "name": "python",
   "nbconvert_exporter": "python",
   "pygments_lexer": "ipython3",
   "version": "3.12.3"
  }
 },
 "nbformat": 4,
 "nbformat_minor": 5
}
