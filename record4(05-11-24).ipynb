{
 "cells": [
  {
   "cell_type": "code",
   "execution_count": 1,
   "id": "e7dbd699",
   "metadata": {},
   "outputs": [
    {
     "name": "stdout",
     "output_type": "stream",
     "text": [
      "Enter a line of text:what is complicatd is that he dont know what the problem is\n",
      "problem 1\n",
      "the 1\n",
      "dont 1\n",
      "know 1\n",
      "is 3\n",
      "complicatd 1\n",
      "that 1\n",
      "what 2\n",
      "he 1\n"
     ]
    }
   ],
   "source": [
    "#to count occurences of eacg word in a line\n",
    "text=input(\"Enter a line of text:\").lower().split()\n",
    "for word in set(text):\n",
    "    print(word,text.count(word))"
   ]
  },
  {
   "cell_type": "code",
   "execution_count": 5,
   "id": "8fbe385f",
   "metadata": {},
   "outputs": [
    {
     "name": "stdout",
     "output_type": "stream",
     "text": [
      "Enter a list of integers seperated by spaces:12 320 754 43 28 100 23 654\n",
      "Processed list is: [12, 'over', 'over', 43, 28, 100, 23, 'over']\n"
     ]
    }
   ],
   "source": [
    "#prompt the user for a list of integers,for all values greater than 100 store over instead\n",
    "lstint=input(\"Enter a list of integers seperated by spaces:\")\n",
    "result=[]\n",
    "for x in lstint.split():\n",
    "    result.append(\"over\" if int(x)>100 else int(x))\n",
    "print(\"Processed list is:\",result)\n",
    "    \n"
   ]
  },
  {
   "cell_type": "code",
   "execution_count": 6,
   "id": "0a7442c6",
   "metadata": {},
   "outputs": [
    {
     "name": "stdout",
     "output_type": "stream",
     "text": [
      "Enter a list of first names:shifana shahma eshaan nahyan fathima\n",
      "Occurences of 'a' is: 10\n"
     ]
    }
   ],
   "source": [
    "#to store the list of first names,and count the occurences of 'a'\n",
    "names=input(\"Enter a list of first names:\").split(\".\")\n",
    "count=sum(name.lower().count('a')for name in names)\n",
    "print(\"Occurences of 'a' is:\",count)"
   ]
  },
  {
   "cell_type": "code",
   "execution_count": 15,
   "id": "4b79f605",
   "metadata": {},
   "outputs": [
    {
     "name": "stdout",
     "output_type": "stream",
     "text": [
      "Enter the elements in list1:1 2 3 5\n",
      "Enter the elements in list2:2 3 4 5\n",
      "Is the length same? True\n",
      "Is the sum same? False\n",
      "Any common values? True\n",
      "common values are: {2, 3, 5}\n"
     ]
    }
   ],
   "source": [
    "#enter a list of integers:a)check whether the lists are of same length b)whether the lists sum to same value c)whether any value occur in both\n",
    "l1=list(map(int,input(\"Enter the elements in list1:\").split()))\n",
    "l2=list(map(int,input(\"Enter the elements in list2:\").split()))\n",
    "length=len(l1)==len(l2)\n",
    "print(\"Is the length same?\",length)\n",
    "add=sum(l1)==sum(l2)\n",
    "print(\"Is the sum same?\",add)\n",
    "values=set(l1).intersection(set(l2))\n",
    "common_value=len(values)>0\n",
    "print(\"Any common values?\",common_value)\n",
    "if common_value:\n",
    "    print(\"common values are:\",values)"
   ]
  },
  {
   "cell_type": "code",
   "execution_count": 22,
   "id": "ce2ef0aa",
   "metadata": {},
   "outputs": [
    {
     "name": "stdout",
     "output_type": "stream",
     "text": [
      "Enter the elements in list1:1 2 0 -98 3 -100\n",
      "Positive numbers: [1, 2, 3]\n",
      "Enter the number of terms to square:7\n",
      "Squares: [1, 4, 9, 16, 25, 36, 49]\n",
      "Enter a word:python\n",
      "Vowels in the word: ['o']\n",
      "Ordinal values: [112, 121, 116, 104, 111, 110]\n"
     ]
    }
   ],
   "source": [
    "no=list(map(int,input(\"Enter the elements in list1:\").split()))\n",
    "pos_num=[num for num in no if num>0]\n",
    "print(\"Positive numbers:\",pos_num)\n",
    "\n",
    "n=int(input(\"Enter the number of terms to square:\"))\n",
    "squares=[x ** 2 for x in range(1,n+1)]\n",
    "print(\"Squares:\",squares)\n",
    "\n",
    "word=input(\"Enter a word:\")\n",
    "vowels=[char for char in word if char in 'aeiouAEIOU']\n",
    "print(\"Vowels in the word:\",vowels)\n",
    "ordinals=[ord(char) for char in word]\n",
    "print(\"Ordinal values:\",ordinals)\n"
   ]
  },
  {
   "cell_type": "code",
   "execution_count": null,
   "id": "8c92c0b2",
   "metadata": {},
   "outputs": [],
   "source": []
  }
 ],
 "metadata": {
  "kernelspec": {
   "display_name": "Python 3 (ipykernel)",
   "language": "python",
   "name": "python3"
  },
  "language_info": {
   "codemirror_mode": {
    "name": "ipython",
    "version": 3
   },
   "file_extension": ".py",
   "mimetype": "text/x-python",
   "name": "python",
   "nbconvert_exporter": "python",
   "pygments_lexer": "ipython3",
   "version": "3.12.3"
  }
 },
 "nbformat": 4,
 "nbformat_minor": 5
}
