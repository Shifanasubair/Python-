{
 "cells": [
  {
   "cell_type": "code",
   "execution_count": 27,
   "id": "510e40e0",
   "metadata": {},
   "outputs": [
    {
     "name": "stdout",
     "output_type": "stream",
     "text": [
      "Enter the source file: input.txt\n",
      "lines in the file:  4\n"
     ]
    }
   ],
   "source": [
    "#write a python program to read a file line by line and store into a list\n",
    "l=[]\n",
    "file1=input(\"Enter the source file: \")\n",
    "f=open(file1,\"r\")\n",
    "for line in f.readlines():\n",
    "    l.append(line)\n",
    "print(\"lines in the file: \",len(l))\n"
   ]
  },
  {
   "cell_type": "code",
   "execution_count": 28,
   "id": "df3a9582",
   "metadata": {},
   "outputs": [
    {
     "name": "stdout",
     "output_type": "stream",
     "text": [
      "Enter the source file: input.txt\n",
      "Enter destination file: output.txt\n"
     ]
    }
   ],
   "source": [
    "# program to copy odd lines from one file to another\n",
    "file1=input(\"Enter the source file: \")\n",
    "file2=input(\"Enter destination file: \")\n",
    "f1=open(file1,\"r\")\n",
    "f2=open(file2,\"w\")\n",
    "i=0\n",
    "for line in f1.readlines():\n",
    "    i=i+1\n",
    "    if i%2==0:\n",
    "        continue\n",
    "    f2.write(line)\n",
    "f1.close()\n",
    "f2.close()"
   ]
  },
  {
   "cell_type": "code",
   "execution_count": 2,
   "id": "12659203",
   "metadata": {},
   "outputs": [
    {
     "name": "stdout",
     "output_type": "stream",
     "text": [
      "Enter new source file name: c.csv\n",
      "Enter comma seperated empid,empname,dptname,dob,salary: 101,aswin,cs,11-11-2002,50000\n",
      "Enter comma seperated empid,empname,dptname,dob,salary: 103,nahyan,it,16-04-24,67000\n",
      "The csv file contains: \n",
      "{'1': '2', 'aswin': 'nahyan', 'cs': 'cs', '12-3-2003': '16-4-2003', '30000': '50000'}\n"
     ]
    }
   ],
   "source": [
    "import csv\n",
    "file1=input(\"Enter new source file name: \")\n",
    "with open(file1,\"a+\",newline='')as f1:\n",
    "    empdata=[\"empid\",\"empname\",\"dptname\",\"dob\",\"salary\"]\n",
    "    l=[]\n",
    "    writer=csv.DictWriter(f1,fieldnames=empdata)\n",
    "    for i in range(2):\n",
    "        l=list(input(\"Enter comma seperated empid,empname,dptname,dob,salary: \").split(\",\"))\n",
    "        writer.writerow({'empid':l[0],'empname':l[1],'dptname':l[2],'dob':l[3],'salary':l[4]})\n",
    "        l.clear()\n",
    "    print(\"The csv file contains: \")\n",
    "    with open(file1,'r') as f2:\n",
    "        rdr=csv.DictReader(f2)\n",
    "        for item in rdr:\n",
    "            print(dict(item))"
   ]
  },
  {
   "cell_type": "code",
   "execution_count": 33,
   "id": "a9efd6c2",
   "metadata": {},
   "outputs": [
    {
     "name": "stdout",
     "output_type": "stream",
     "text": [
      "Enter csv file name: input.txt\n",
      "['hello all.']\n",
      "['python']\n",
      "['programming']\n",
      "['data structure']\n"
     ]
    }
   ],
   "source": [
    "import csv\n",
    "fname=input(\"Enter csv file name: \")\n",
    "f1=open(fname,\"r\")\n",
    "reader=csv.reader(f1)\n",
    "for row in reader:\n",
    "    print(row)\n",
    "f1.close()"
   ]
  },
  {
   "cell_type": "code",
   "execution_count": 37,
   "id": "061920a2",
   "metadata": {},
   "outputs": [
    {
     "name": "stdout",
     "output_type": "stream",
     "text": [
      "Enter new filename with extension csv: hey.csv\n",
      "Enter number of dept: 2\n",
      "Enter comma seperated deptid,deptname,TE,location: 1,sales,10,kochi\n",
      "Enter comma seperated deptid,deptname,TE,location: 2,marketing,20,thrissur\n",
      "DepartmentID. DepartmentName\n",
      "1   sales\n",
      "deptid   deptname\n",
      "1   sales\n",
      "2   marketing\n"
     ]
    }
   ],
   "source": [
    "import csv\n",
    "file1=input(\"Enter new filename with extension csv: \")\n",
    "with open (file1,\"a+\",newline='')as f1:\n",
    "    empdata=[\"deptid\",\"deptname\",\"TE\",\"location\"]\n",
    "    l=[]\n",
    "    writer=csv.DictWriter(f1,fieldnames=empdata)\n",
    "    writer.writeheader()\n",
    "    n=int(input(\"Enter number of dept: \"))\n",
    "    for i in range(n):\n",
    "        l=list(input(\"Enter comma seperated deptid,deptname,TE,location: \").split(\",\"))\n",
    "        writer.writerow({'deptid':l[0],'deptname':l[1],'TE':l[2],'location':l[3]})\n",
    "        l.clear()\n",
    "    print(\"DepartmentID. DepartmentName\")\n",
    "with open (file1,'r') as f2:\n",
    "    rdr=csv.DictReader(f2)\n",
    "    for item in rdr:\n",
    "        print(item['deptid'],\" \",item['deptname'])"
   ]
  },
  {
   "cell_type": "code",
   "execution_count": null,
   "id": "49a60b4d",
   "metadata": {},
   "outputs": [],
   "source": []
  }
 ],
 "metadata": {
  "kernelspec": {
   "display_name": "Python 3 (ipykernel)",
   "language": "python",
   "name": "python3"
  },
  "language_info": {
   "codemirror_mode": {
    "name": "ipython",
    "version": 3
   },
   "file_extension": ".py",
   "mimetype": "text/x-python",
   "name": "python",
   "nbconvert_exporter": "python",
   "pygments_lexer": "ipython3",
   "version": "3.12.3"
  }
 },
 "nbformat": 4,
 "nbformat_minor": 5
}
